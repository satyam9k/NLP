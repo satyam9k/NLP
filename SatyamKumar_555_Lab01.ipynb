{
  "nbformat": 4,
  "nbformat_minor": 0,
  "metadata": {
    "colab": {
      "provenance": [],
      "gpuType": "T4"
    },
    "kernelspec": {
      "name": "python3",
      "display_name": "Python 3"
    },
    "language_info": {
      "name": "python"
    },
    "accelerator": "GPU"
  },
  "cells": [
    {
      "cell_type": "code",
      "execution_count": 1,
      "metadata": {
        "id": "97mQA8v3wRQE"
      },
      "outputs": [],
      "source": [
        "import numpy as np\n",
        "import pandas as pd\n",
        "import nltk\n"
      ]
    },
    {
      "cell_type": "code",
      "source": [
        "para = \"Gear Up for the Thrill Ride! While the engines may be silent for the moment , the anticipation for the new F1 season is already revving high!  Can't wait to see if Lewis Hamilton can reclaim his crown , or if a young gun like Charles Leclerc will challenge the throne . Will Ferrari finally break the Mercedes and Red Bull dominance?  One thing's for sure, the upcoming season promises edge-of-your-seat battles , daring overtakes ⚡, and drama on and off the track! Get ready to witness the pinnacle of motorsport , where strategy meets split-second decisions, and human skill pushes the boundaries of machine . Buckle up, F1 fans - it's going to be a wild ride!\"\n",
        "print(para)"
      ],
      "metadata": {
        "colab": {
          "base_uri": "https://localhost:8080/"
        },
        "id": "69LqCOn5w5vg",
        "outputId": "9ab024f6-4944-4437-d81b-5842c1581ba1"
      },
      "execution_count": 2,
      "outputs": [
        {
          "output_type": "stream",
          "name": "stdout",
          "text": [
            "Gear Up for the Thrill Ride! While the engines may be silent for the moment , the anticipation for the new F1 season is already revving high!  Can't wait to see if Lewis Hamilton can reclaim his crown , or if a young gun like Charles Leclerc will challenge the throne . Will Ferrari finally break the Mercedes and Red Bull dominance?  One thing's for sure, the upcoming season promises edge-of-your-seat battles , daring overtakes ⚡, and drama on and off the track! Get ready to witness the pinnacle of motorsport , where strategy meets split-second decisions, and human skill pushes the boundaries of machine . Buckle up, F1 fans - it's going to be a wild ride!\n"
          ]
        }
      ]
    },
    {
      "cell_type": "markdown",
      "source": [
        "1) Word Tokenization"
      ],
      "metadata": {
        "id": "pCxF-oZUxYis"
      }
    },
    {
      "cell_type": "code",
      "source": [
        "from nltk import word_tokenize\n",
        "import nltk\n",
        "nltk.download('punkt')\n"
      ],
      "metadata": {
        "colab": {
          "base_uri": "https://localhost:8080/"
        },
        "id": "6TB6YL9lxMbT",
        "outputId": "0db57aee-e490-45d0-d519-5b7a61721a38"
      },
      "execution_count": 3,
      "outputs": [
        {
          "output_type": "stream",
          "name": "stderr",
          "text": [
            "[nltk_data] Downloading package punkt to /root/nltk_data...\n",
            "[nltk_data]   Package punkt is already up-to-date!\n"
          ]
        },
        {
          "output_type": "execute_result",
          "data": {
            "text/plain": [
              "True"
            ]
          },
          "metadata": {},
          "execution_count": 3
        }
      ]
    },
    {
      "cell_type": "code",
      "source": [
        "print(word_tokenize(para))\n"
      ],
      "metadata": {
        "colab": {
          "base_uri": "https://localhost:8080/"
        },
        "id": "V6cDaQQBxiaa",
        "outputId": "ff450d3e-92ef-4170-c01f-50daa9fffd52"
      },
      "execution_count": 4,
      "outputs": [
        {
          "output_type": "stream",
          "name": "stdout",
          "text": [
            "['Gear', 'Up', 'for', 'the', 'Thrill', 'Ride', '!', 'While', 'the', 'engines', 'may', 'be', 'silent', 'for', 'the', 'moment', ',', 'the', 'anticipation', 'for', 'the', 'new', 'F1', 'season', 'is', 'already', 'revving', 'high', '!', 'Ca', \"n't\", 'wait', 'to', 'see', 'if', 'Lewis', 'Hamilton', 'can', 'reclaim', 'his', 'crown', ',', 'or', 'if', 'a', 'young', 'gun', 'like', 'Charles', 'Leclerc', 'will', 'challenge', 'the', 'throne', '.', 'Will', 'Ferrari', 'finally', 'break', 'the', 'Mercedes', 'and', 'Red', 'Bull', 'dominance', '?', 'One', 'thing', \"'s\", 'for', 'sure', ',', 'the', 'upcoming', 'season', 'promises', 'edge-of-your-seat', 'battles', ',', 'daring', 'overtakes', '⚡', ',', 'and', 'drama', 'on', 'and', 'off', 'the', 'track', '!', 'Get', 'ready', 'to', 'witness', 'the', 'pinnacle', 'of', 'motorsport', ',', 'where', 'strategy', 'meets', 'split-second', 'decisions', ',', 'and', 'human', 'skill', 'pushes', 'the', 'boundaries', 'of', 'machine', '.', 'Buckle', 'up', ',', 'F1', 'fans', '-', 'it', \"'s\", 'going', 'to', 'be', 'a', 'wild', 'ride', '!']\n"
          ]
        }
      ]
    },
    {
      "cell_type": "markdown",
      "source": [
        "2) Sentence Tokenization"
      ],
      "metadata": {
        "id": "mlfr5ggDzTnl"
      }
    },
    {
      "cell_type": "code",
      "source": [
        "from nltk.tokenize import sent_tokenize"
      ],
      "metadata": {
        "id": "SxR_gwoByGMq"
      },
      "execution_count": 5,
      "outputs": []
    },
    {
      "cell_type": "code",
      "source": [
        "print(sent_tokenize(para))"
      ],
      "metadata": {
        "colab": {
          "base_uri": "https://localhost:8080/"
        },
        "id": "u3prXjoJzaPA",
        "outputId": "1e5f1c31-d8fa-471c-e537-4ad6a0693732"
      },
      "execution_count": 6,
      "outputs": [
        {
          "output_type": "stream",
          "name": "stdout",
          "text": [
            "['Gear Up for the Thrill Ride!', 'While the engines may be silent for the moment , the anticipation for the new F1 season is already revving high!', \"Can't wait to see if Lewis Hamilton can reclaim his crown , or if a young gun like Charles Leclerc will challenge the throne .\", 'Will Ferrari finally break the Mercedes and Red Bull dominance?', \"One thing's for sure, the upcoming season promises edge-of-your-seat battles , daring overtakes ⚡, and drama on and off the track!\", 'Get ready to witness the pinnacle of motorsport , where strategy meets split-second decisions, and human skill pushes the boundaries of machine .', \"Buckle up, F1 fans - it's going to be a wild ride!\"]\n"
          ]
        }
      ]
    },
    {
      "cell_type": "markdown",
      "source": [
        "3) Puctuation-based Tokenizer"
      ],
      "metadata": {
        "id": "BJtXr9VEz0Ul"
      }
    },
    {
      "cell_type": "code",
      "source": [
        "from nltk.tokenize import WordPunctTokenizer"
      ],
      "metadata": {
        "id": "A8ZXHy4mzfMl"
      },
      "execution_count": 7,
      "outputs": []
    },
    {
      "cell_type": "code",
      "source": [
        "result = WordPunctTokenizer().tokenize(para)\n",
        "print(result)"
      ],
      "metadata": {
        "colab": {
          "base_uri": "https://localhost:8080/"
        },
        "id": "oizUgjf8z7kU",
        "outputId": "479da90d-652e-4fd4-9407-930a8b696b1b"
      },
      "execution_count": 8,
      "outputs": [
        {
          "output_type": "stream",
          "name": "stdout",
          "text": [
            "['Gear', 'Up', 'for', 'the', 'Thrill', 'Ride', '!', 'While', 'the', 'engines', 'may', 'be', 'silent', 'for', 'the', 'moment', ',', 'the', 'anticipation', 'for', 'the', 'new', 'F1', 'season', 'is', 'already', 'revving', 'high', '!', 'Can', \"'\", 't', 'wait', 'to', 'see', 'if', 'Lewis', 'Hamilton', 'can', 'reclaim', 'his', 'crown', ',', 'or', 'if', 'a', 'young', 'gun', 'like', 'Charles', 'Leclerc', 'will', 'challenge', 'the', 'throne', '.', 'Will', 'Ferrari', 'finally', 'break', 'the', 'Mercedes', 'and', 'Red', 'Bull', 'dominance', '?', 'One', 'thing', \"'\", 's', 'for', 'sure', ',', 'the', 'upcoming', 'season', 'promises', 'edge', '-', 'of', '-', 'your', '-', 'seat', 'battles', ',', 'daring', 'overtakes', '⚡,', 'and', 'drama', 'on', 'and', 'off', 'the', 'track', '!', 'Get', 'ready', 'to', 'witness', 'the', 'pinnacle', 'of', 'motorsport', ',', 'where', 'strategy', 'meets', 'split', '-', 'second', 'decisions', ',', 'and', 'human', 'skill', 'pushes', 'the', 'boundaries', 'of', 'machine', '.', 'Buckle', 'up', ',', 'F1', 'fans', '-', 'it', \"'\", 's', 'going', 'to', 'be', 'a', 'wild', 'ride', '!']\n"
          ]
        }
      ]
    },
    {
      "cell_type": "markdown",
      "source": [
        "4) Treebank word Tokenizer"
      ],
      "metadata": {
        "id": "XGxnr4EF0Hju"
      }
    },
    {
      "cell_type": "code",
      "source": [
        "from nltk.tokenize import TreebankWordTokenizer"
      ],
      "metadata": {
        "id": "HXLFvti-0E8X"
      },
      "execution_count": 9,
      "outputs": []
    },
    {
      "cell_type": "code",
      "source": [
        "results01 = TreebankWordTokenizer().tokenize(para)\n",
        "print(results01)"
      ],
      "metadata": {
        "colab": {
          "base_uri": "https://localhost:8080/"
        },
        "id": "ja4YjiFI0l8Z",
        "outputId": "87819126-93b6-4090-9457-95744bd37636"
      },
      "execution_count": 10,
      "outputs": [
        {
          "output_type": "stream",
          "name": "stdout",
          "text": [
            "['Gear', 'Up', 'for', 'the', 'Thrill', 'Ride', '!', 'While', 'the', 'engines', 'may', 'be', 'silent', 'for', 'the', 'moment', ',', 'the', 'anticipation', 'for', 'the', 'new', 'F1', 'season', 'is', 'already', 'revving', 'high', '!', 'Ca', \"n't\", 'wait', 'to', 'see', 'if', 'Lewis', 'Hamilton', 'can', 'reclaim', 'his', 'crown', ',', 'or', 'if', 'a', 'young', 'gun', 'like', 'Charles', 'Leclerc', 'will', 'challenge', 'the', 'throne', '.', 'Will', 'Ferrari', 'finally', 'break', 'the', 'Mercedes', 'and', 'Red', 'Bull', 'dominance', '?', 'One', 'thing', \"'s\", 'for', 'sure', ',', 'the', 'upcoming', 'season', 'promises', 'edge-of-your-seat', 'battles', ',', 'daring', 'overtakes', '⚡', ',', 'and', 'drama', 'on', 'and', 'off', 'the', 'track', '!', 'Get', 'ready', 'to', 'witness', 'the', 'pinnacle', 'of', 'motorsport', ',', 'where', 'strategy', 'meets', 'split-second', 'decisions', ',', 'and', 'human', 'skill', 'pushes', 'the', 'boundaries', 'of', 'machine', '.', 'Buckle', 'up', ',', 'F1', 'fans', '-', 'it', \"'s\", 'going', 'to', 'be', 'a', 'wild', 'ride', '!']\n"
          ]
        }
      ]
    },
    {
      "cell_type": "markdown",
      "source": [
        "5) Tweet Tokenizer"
      ],
      "metadata": {
        "id": "4fyErvTm0xdM"
      }
    },
    {
      "cell_type": "code",
      "source": [
        "from nltk.tokenize import TweetTokenizer"
      ],
      "metadata": {
        "id": "Iju9b2ZL0uRG"
      },
      "execution_count": 11,
      "outputs": []
    },
    {
      "cell_type": "code",
      "source": [
        "results02 = TweetTokenizer().tokenize(para)\n",
        "print(results02)"
      ],
      "metadata": {
        "colab": {
          "base_uri": "https://localhost:8080/"
        },
        "id": "SHmghAP00_kM",
        "outputId": "a1ec186c-d2f1-48fc-acd1-167a9835b5d7"
      },
      "execution_count": 12,
      "outputs": [
        {
          "output_type": "stream",
          "name": "stdout",
          "text": [
            "['Gear', 'Up', 'for', 'the', 'Thrill', 'Ride', '!', 'While', 'the', 'engines', 'may', 'be', 'silent', 'for', 'the', 'moment', ',', 'the', 'anticipation', 'for', 'the', 'new', 'F1', 'season', 'is', 'already', 'revving', 'high', '!', \"Can't\", 'wait', 'to', 'see', 'if', 'Lewis', 'Hamilton', 'can', 'reclaim', 'his', 'crown', ',', 'or', 'if', 'a', 'young', 'gun', 'like', 'Charles', 'Leclerc', 'will', 'challenge', 'the', 'throne', '.', 'Will', 'Ferrari', 'finally', 'break', 'the', 'Mercedes', 'and', 'Red', 'Bull', 'dominance', '?', 'One', \"thing's\", 'for', 'sure', ',', 'the', 'upcoming', 'season', 'promises', 'edge-of-your-seat', 'battles', ',', 'daring', 'overtakes', '⚡', ',', 'and', 'drama', 'on', 'and', 'off', 'the', 'track', '!', 'Get', 'ready', 'to', 'witness', 'the', 'pinnacle', 'of', 'motorsport', ',', 'where', 'strategy', 'meets', 'split-second', 'decisions', ',', 'and', 'human', 'skill', 'pushes', 'the', 'boundaries', 'of', 'machine', '.', 'Buckle', 'up', ',', 'F1', 'fans', '-', \"it's\", 'going', 'to', 'be', 'a', 'wild', 'ride', '!']\n"
          ]
        }
      ]
    },
    {
      "cell_type": "markdown",
      "source": [
        "6) Multi-Word Expression Tokenizer\n"
      ],
      "metadata": {
        "id": "qFkexuaD1QF3"
      }
    },
    {
      "cell_type": "code",
      "source": [
        "from nltk.tokenize import MWETokenizer"
      ],
      "metadata": {
        "id": "PnnHmpFc1Lse"
      },
      "execution_count": 13,
      "outputs": []
    },
    {
      "cell_type": "code",
      "source": [
        "results03 = MWETokenizer().tokenize(para)\n",
        "print(results03)"
      ],
      "metadata": {
        "colab": {
          "base_uri": "https://localhost:8080/"
        },
        "id": "SlpwmoTs1coT",
        "outputId": "418583ed-d24d-4f8e-dd99-95be840dab4b"
      },
      "execution_count": 14,
      "outputs": [
        {
          "output_type": "stream",
          "name": "stdout",
          "text": [
            "['G', 'e', 'a', 'r', ' ', 'U', 'p', ' ', 'f', 'o', 'r', ' ', 't', 'h', 'e', ' ', 'T', 'h', 'r', 'i', 'l', 'l', ' ', 'R', 'i', 'd', 'e', '!', ' ', 'W', 'h', 'i', 'l', 'e', ' ', 't', 'h', 'e', ' ', 'e', 'n', 'g', 'i', 'n', 'e', 's', ' ', 'm', 'a', 'y', ' ', 'b', 'e', ' ', 's', 'i', 'l', 'e', 'n', 't', ' ', 'f', 'o', 'r', ' ', 't', 'h', 'e', ' ', 'm', 'o', 'm', 'e', 'n', 't', ' ', ',', ' ', 't', 'h', 'e', ' ', 'a', 'n', 't', 'i', 'c', 'i', 'p', 'a', 't', 'i', 'o', 'n', ' ', 'f', 'o', 'r', ' ', 't', 'h', 'e', ' ', 'n', 'e', 'w', ' ', 'F', '1', ' ', 's', 'e', 'a', 's', 'o', 'n', ' ', 'i', 's', ' ', 'a', 'l', 'r', 'e', 'a', 'd', 'y', ' ', 'r', 'e', 'v', 'v', 'i', 'n', 'g', ' ', 'h', 'i', 'g', 'h', '!', ' ', ' ', 'C', 'a', 'n', \"'\", 't', ' ', 'w', 'a', 'i', 't', ' ', 't', 'o', ' ', 's', 'e', 'e', ' ', 'i', 'f', ' ', 'L', 'e', 'w', 'i', 's', ' ', 'H', 'a', 'm', 'i', 'l', 't', 'o', 'n', ' ', 'c', 'a', 'n', ' ', 'r', 'e', 'c', 'l', 'a', 'i', 'm', ' ', 'h', 'i', 's', ' ', 'c', 'r', 'o', 'w', 'n', ' ', ',', ' ', 'o', 'r', ' ', 'i', 'f', ' ', 'a', ' ', 'y', 'o', 'u', 'n', 'g', ' ', 'g', 'u', 'n', ' ', 'l', 'i', 'k', 'e', ' ', 'C', 'h', 'a', 'r', 'l', 'e', 's', ' ', 'L', 'e', 'c', 'l', 'e', 'r', 'c', ' ', 'w', 'i', 'l', 'l', ' ', 'c', 'h', 'a', 'l', 'l', 'e', 'n', 'g', 'e', ' ', 't', 'h', 'e', ' ', 't', 'h', 'r', 'o', 'n', 'e', ' ', '.', ' ', 'W', 'i', 'l', 'l', ' ', 'F', 'e', 'r', 'r', 'a', 'r', 'i', ' ', 'f', 'i', 'n', 'a', 'l', 'l', 'y', ' ', 'b', 'r', 'e', 'a', 'k', ' ', 't', 'h', 'e', ' ', 'M', 'e', 'r', 'c', 'e', 'd', 'e', 's', ' ', 'a', 'n', 'd', ' ', 'R', 'e', 'd', ' ', 'B', 'u', 'l', 'l', ' ', 'd', 'o', 'm', 'i', 'n', 'a', 'n', 'c', 'e', '?', ' ', ' ', 'O', 'n', 'e', ' ', 't', 'h', 'i', 'n', 'g', \"'\", 's', ' ', 'f', 'o', 'r', ' ', 's', 'u', 'r', 'e', ',', ' ', 't', 'h', 'e', ' ', 'u', 'p', 'c', 'o', 'm', 'i', 'n', 'g', ' ', 's', 'e', 'a', 's', 'o', 'n', ' ', 'p', 'r', 'o', 'm', 'i', 's', 'e', 's', ' ', 'e', 'd', 'g', 'e', '-', 'o', 'f', '-', 'y', 'o', 'u', 'r', '-', 's', 'e', 'a', 't', ' ', 'b', 'a', 't', 't', 'l', 'e', 's', ' ', ',', ' ', 'd', 'a', 'r', 'i', 'n', 'g', ' ', 'o', 'v', 'e', 'r', 't', 'a', 'k', 'e', 's', ' ', '⚡', ',', ' ', 'a', 'n', 'd', ' ', 'd', 'r', 'a', 'm', 'a', ' ', 'o', 'n', ' ', 'a', 'n', 'd', ' ', 'o', 'f', 'f', ' ', 't', 'h', 'e', ' ', 't', 'r', 'a', 'c', 'k', '!', ' ', 'G', 'e', 't', ' ', 'r', 'e', 'a', 'd', 'y', ' ', 't', 'o', ' ', 'w', 'i', 't', 'n', 'e', 's', 's', ' ', 't', 'h', 'e', ' ', 'p', 'i', 'n', 'n', 'a', 'c', 'l', 'e', ' ', 'o', 'f', ' ', 'm', 'o', 't', 'o', 'r', 's', 'p', 'o', 'r', 't', ' ', ',', ' ', 'w', 'h', 'e', 'r', 'e', ' ', 's', 't', 'r', 'a', 't', 'e', 'g', 'y', ' ', 'm', 'e', 'e', 't', 's', ' ', 's', 'p', 'l', 'i', 't', '-', 's', 'e', 'c', 'o', 'n', 'd', ' ', 'd', 'e', 'c', 'i', 's', 'i', 'o', 'n', 's', ',', ' ', 'a', 'n', 'd', ' ', 'h', 'u', 'm', 'a', 'n', ' ', 's', 'k', 'i', 'l', 'l', ' ', 'p', 'u', 's', 'h', 'e', 's', ' ', 't', 'h', 'e', ' ', 'b', 'o', 'u', 'n', 'd', 'a', 'r', 'i', 'e', 's', ' ', 'o', 'f', ' ', 'm', 'a', 'c', 'h', 'i', 'n', 'e', ' ', '.', ' ', 'B', 'u', 'c', 'k', 'l', 'e', ' ', 'u', 'p', ',', ' ', 'F', '1', ' ', 'f', 'a', 'n', 's', ' ', '-', ' ', 'i', 't', \"'\", 's', ' ', 'g', 'o', 'i', 'n', 'g', ' ', 't', 'o', ' ', 'b', 'e', ' ', 'a', ' ', 'w', 'i', 'l', 'd', ' ', 'r', 'i', 'd', 'e', '!']\n"
          ]
        }
      ]
    },
    {
      "cell_type": "markdown",
      "source": [
        "7) TextBlob Word Tokenize"
      ],
      "metadata": {
        "id": "YSzV3fD913eP"
      }
    },
    {
      "cell_type": "code",
      "source": [
        "!pip install textblob"
      ],
      "metadata": {
        "colab": {
          "base_uri": "https://localhost:8080/"
        },
        "id": "41pNdmHE1sBF",
        "outputId": "72684bab-4044-49f4-d017-05250f4d8d89"
      },
      "execution_count": 15,
      "outputs": [
        {
          "output_type": "stream",
          "name": "stdout",
          "text": [
            "Requirement already satisfied: textblob in /usr/local/lib/python3.10/dist-packages (0.17.1)\n",
            "Requirement already satisfied: nltk>=3.1 in /usr/local/lib/python3.10/dist-packages (from textblob) (3.8.1)\n",
            "Requirement already satisfied: click in /usr/local/lib/python3.10/dist-packages (from nltk>=3.1->textblob) (8.1.7)\n",
            "Requirement already satisfied: joblib in /usr/local/lib/python3.10/dist-packages (from nltk>=3.1->textblob) (1.3.2)\n",
            "Requirement already satisfied: regex>=2021.8.3 in /usr/local/lib/python3.10/dist-packages (from nltk>=3.1->textblob) (2023.12.25)\n",
            "Requirement already satisfied: tqdm in /usr/local/lib/python3.10/dist-packages (from nltk>=3.1->textblob) (4.66.1)\n"
          ]
        }
      ]
    },
    {
      "cell_type": "code",
      "source": [
        "from textblob import TextBlob"
      ],
      "metadata": {
        "id": "h0qdI4I42GMM"
      },
      "execution_count": 16,
      "outputs": []
    },
    {
      "cell_type": "code",
      "source": [
        "blob_object = TextBlob(para)\n",
        "\n",
        "# tokenize paragraph into words.\n",
        "print(\" Word Tokenize :\\n\", blob_object.words)\n",
        "\n",
        "# tokenize paragraph into sentences.\n",
        "print(\"\\n Sentence Tokenize :\\n\", blob_object.sentences)"
      ],
      "metadata": {
        "colab": {
          "base_uri": "https://localhost:8080/"
        },
        "id": "aGYutBEB2Jyr",
        "outputId": "62c5472b-ec46-4105-9547-e4cb45416500"
      },
      "execution_count": 17,
      "outputs": [
        {
          "output_type": "stream",
          "name": "stdout",
          "text": [
            " Word Tokenize :\n",
            " ['Gear', 'Up', 'for', 'the', 'Thrill', 'Ride', 'While', 'the', 'engines', 'may', 'be', 'silent', 'for', 'the', 'moment', 'the', 'anticipation', 'for', 'the', 'new', 'F1', 'season', 'is', 'already', 'revving', 'high', 'Ca', \"n't\", 'wait', 'to', 'see', 'if', 'Lewis', 'Hamilton', 'can', 'reclaim', 'his', 'crown', 'or', 'if', 'a', 'young', 'gun', 'like', 'Charles', 'Leclerc', 'will', 'challenge', 'the', 'throne', 'Will', 'Ferrari', 'finally', 'break', 'the', 'Mercedes', 'and', 'Red', 'Bull', 'dominance', 'One', 'thing', \"'s\", 'for', 'sure', 'the', 'upcoming', 'season', 'promises', 'edge-of-your-seat', 'battles', 'daring', 'overtakes', '⚡', 'and', 'drama', 'on', 'and', 'off', 'the', 'track', 'Get', 'ready', 'to', 'witness', 'the', 'pinnacle', 'of', 'motorsport', 'where', 'strategy', 'meets', 'split-second', 'decisions', 'and', 'human', 'skill', 'pushes', 'the', 'boundaries', 'of', 'machine', 'Buckle', 'up', 'F1', 'fans', 'it', \"'s\", 'going', 'to', 'be', 'a', 'wild', 'ride']\n",
            "\n",
            " Sentence Tokenize :\n",
            " [Sentence(\"Gear Up for the Thrill Ride!\"), Sentence(\"While the engines may be silent for the moment , the anticipation for the new F1 season is already revving high!\"), Sentence(\"Can't wait to see if Lewis Hamilton can reclaim his crown , or if a young gun like Charles Leclerc will challenge the throne .\"), Sentence(\"Will Ferrari finally break the Mercedes and Red Bull dominance?\"), Sentence(\"One thing's for sure, the upcoming season promises edge-of-your-seat battles , daring overtakes ⚡, and drama on and off the track!\"), Sentence(\"Get ready to witness the pinnacle of motorsport , where strategy meets split-second decisions, and human skill pushes the boundaries of machine .\"), Sentence(\"Buckle up, F1 fans - it's going to be a wild ride!\")]\n"
          ]
        }
      ]
    },
    {
      "cell_type": "markdown",
      "source": [
        "8) spaCy Tokenizer"
      ],
      "metadata": {
        "id": "YTNqjsH02XYx"
      }
    },
    {
      "cell_type": "code",
      "source": [
        "import spacy"
      ],
      "metadata": {
        "id": "0Zak2d122Q94"
      },
      "execution_count": 18,
      "outputs": []
    },
    {
      "cell_type": "code",
      "source": [
        "spacyLoad = spacy.load (\"en_core_web_sm\")\n",
        "py_doc = spacyLoad (\"Gear Up for the Thrill Ride! While the engines may be silent for the moment , the anticipation for the new F1 season is already revving high!  Can't wait to see if Lewis Hamilton can reclaim his crown , or if a young gun like Charles Leclerc will challenge the throne . Will Ferrari finally break the Mercedes and Red Bull dominance?  One thing's for sure, the upcoming season promises edge-of-your-seat battles , daring overtakes ⚡, and drama on and off the track! Get ready to witness the pinnacle of motorsport , where strategy meets split-second decisions, and human skill pushes the boundaries of machine . Buckle up, F1 fans - it's going to be a wild ride!\")\n",
        "for py_token in py_doc:\n",
        "    print (py_token.text)"
      ],
      "metadata": {
        "colab": {
          "base_uri": "https://localhost:8080/"
        },
        "id": "bGSoc89S2nyR",
        "outputId": "7d511be8-f455-4ea9-ae19-0f323cbc2b44"
      },
      "execution_count": 19,
      "outputs": [
        {
          "output_type": "stream",
          "name": "stdout",
          "text": [
            "Gear\n",
            "Up\n",
            "for\n",
            "the\n",
            "Thrill\n",
            "Ride\n",
            "!\n",
            "While\n",
            "the\n",
            "engines\n",
            "may\n",
            "be\n",
            "silent\n",
            "for\n",
            "the\n",
            "moment\n",
            ",\n",
            "the\n",
            "anticipation\n",
            "for\n",
            "the\n",
            "new\n",
            "F1\n",
            "season\n",
            "is\n",
            "already\n",
            "revving\n",
            "high\n",
            "!\n",
            " \n",
            "Ca\n",
            "n't\n",
            "wait\n",
            "to\n",
            "see\n",
            "if\n",
            "Lewis\n",
            "Hamilton\n",
            "can\n",
            "reclaim\n",
            "his\n",
            "crown\n",
            ",\n",
            "or\n",
            "if\n",
            "a\n",
            "young\n",
            "gun\n",
            "like\n",
            "Charles\n",
            "Leclerc\n",
            "will\n",
            "challenge\n",
            "the\n",
            "throne\n",
            ".\n",
            "Will\n",
            "Ferrari\n",
            "finally\n",
            "break\n",
            "the\n",
            "Mercedes\n",
            "and\n",
            "Red\n",
            "Bull\n",
            "dominance\n",
            "?\n",
            " \n",
            "One\n",
            "thing\n",
            "'s\n",
            "for\n",
            "sure\n",
            ",\n",
            "the\n",
            "upcoming\n",
            "season\n",
            "promises\n",
            "edge\n",
            "-\n",
            "of\n",
            "-\n",
            "your\n",
            "-\n",
            "seat\n",
            "battles\n",
            ",\n",
            "daring\n",
            "overtakes\n",
            "⚡\n",
            ",\n",
            "and\n",
            "drama\n",
            "on\n",
            "and\n",
            "off\n",
            "the\n",
            "track\n",
            "!\n",
            "Get\n",
            "ready\n",
            "to\n",
            "witness\n",
            "the\n",
            "pinnacle\n",
            "of\n",
            "motorsport\n",
            ",\n",
            "where\n",
            "strategy\n",
            "meets\n",
            "split\n",
            "-\n",
            "second\n",
            "decisions\n",
            ",\n",
            "and\n",
            "human\n",
            "skill\n",
            "pushes\n",
            "the\n",
            "boundaries\n",
            "of\n",
            "machine\n",
            ".\n",
            "Buckle\n",
            "up\n",
            ",\n",
            "F1\n",
            "fans\n",
            "-\n",
            "it\n",
            "'s\n",
            "going\n",
            "to\n",
            "be\n",
            "a\n",
            "wild\n",
            "ride\n",
            "!\n"
          ]
        }
      ]
    },
    {
      "cell_type": "markdown",
      "source": [
        "9) Gensim word tokenizer"
      ],
      "metadata": {
        "id": "S_kXjW4N3Xl9"
      }
    },
    {
      "cell_type": "code",
      "source": [
        "from gensim.utils import tokenize"
      ],
      "metadata": {
        "id": "k0db-aVa3RbV"
      },
      "execution_count": 20,
      "outputs": []
    },
    {
      "cell_type": "code",
      "source": [
        "results04 = list(tokenize(para))\n",
        "\n",
        "print(results04)"
      ],
      "metadata": {
        "colab": {
          "base_uri": "https://localhost:8080/"
        },
        "id": "791QjV4C3hyf",
        "outputId": "46c8db54-5caf-4603-b58e-48f86be512d2"
      },
      "execution_count": 21,
      "outputs": [
        {
          "output_type": "stream",
          "name": "stdout",
          "text": [
            "['Gear', 'Up', 'for', 'the', 'Thrill', 'Ride', 'While', 'the', 'engines', 'may', 'be', 'silent', 'for', 'the', 'moment', 'the', 'anticipation', 'for', 'the', 'new', 'F', 'season', 'is', 'already', 'revving', 'high', 'Can', 't', 'wait', 'to', 'see', 'if', 'Lewis', 'Hamilton', 'can', 'reclaim', 'his', 'crown', 'or', 'if', 'a', 'young', 'gun', 'like', 'Charles', 'Leclerc', 'will', 'challenge', 'the', 'throne', 'Will', 'Ferrari', 'finally', 'break', 'the', 'Mercedes', 'and', 'Red', 'Bull', 'dominance', 'One', 'thing', 's', 'for', 'sure', 'the', 'upcoming', 'season', 'promises', 'edge', 'of', 'your', 'seat', 'battles', 'daring', 'overtakes', 'and', 'drama', 'on', 'and', 'off', 'the', 'track', 'Get', 'ready', 'to', 'witness', 'the', 'pinnacle', 'of', 'motorsport', 'where', 'strategy', 'meets', 'split', 'second', 'decisions', 'and', 'human', 'skill', 'pushes', 'the', 'boundaries', 'of', 'machine', 'Buckle', 'up', 'F', 'fans', 'it', 's', 'going', 'to', 'be', 'a', 'wild', 'ride']\n"
          ]
        }
      ]
    },
    {
      "cell_type": "markdown",
      "source": [
        "10) Tokenization with Keras"
      ],
      "metadata": {
        "id": "ScCHGGPx3qcK"
      }
    },
    {
      "cell_type": "code",
      "source": [
        "from tensorflow.keras.preprocessing.text import Tokenizer\n",
        "\n",
        "\n",
        "\n",
        "# Create a tokenizer instance\n",
        "tokenizer = Tokenizer(num_words=1000)\n",
        "\n",
        "# Fit the tokenizer to the paragraph\n",
        "tokenizer.fit_on_texts([para])\n",
        "\n",
        "# Tokenize the paragraph\n",
        "results05 = tokenizer.texts_to_sequences([para])\n",
        "\n",
        "# Print the tokenized sequence\n",
        "print(results05)\n",
        "\n",
        "\n",
        "\n",
        "\n",
        "\n"
      ],
      "metadata": {
        "colab": {
          "base_uri": "https://localhost:8080/"
        },
        "id": "4qJK1F8v1hHC",
        "outputId": "38c44f70-56bc-4524-f55e-c042f8ad0a43"
      },
      "execution_count": 22,
      "outputs": [
        {
          "output_type": "stream",
          "name": "stdout",
          "text": [
            "[[14, 6, 2, 1, 15, 7, 16, 1, 17, 18, 8, 19, 2, 1, 20, 1, 21, 2, 1, 22, 9, 10, 23, 24, 25, 26, 27, 28, 4, 29, 11, 30, 31, 32, 33, 34, 35, 36, 11, 12, 37, 38, 39, 40, 41, 13, 42, 1, 43, 13, 44, 45, 46, 1, 47, 3, 48, 49, 50, 51, 52, 2, 53, 1, 54, 10, 55, 56, 5, 57, 58, 59, 60, 61, 62, 3, 63, 64, 3, 65, 1, 66, 67, 68, 4, 69, 1, 70, 5, 71, 72, 73, 74, 75, 76, 77, 3, 78, 79, 80, 1, 81, 5, 82, 83, 6, 9, 84, 85, 86, 4, 8, 12, 87, 7]]\n"
          ]
        }
      ]
    },
    {
      "cell_type": "markdown",
      "source": [
        "## Tokenization Methods for NLP: A Summary\n",
        "\n",
        "| Method | Insights | Applications |\n",
        "|---|---|---|\n",
        "| Word Tokenization (nltk.word_tokenize) | Splits text into individual words, handles contractions and hyphenated words. | Basic word-level analysis, building vocabulary, pre-processing. |\n",
        "| Sentence Tokenization (nltk.sent_tokenize) | Identifies sentence boundaries based on punctuation and context. | Sentence-level summarization, sentiment analysis, topic modeling. |\n",
        "| Punctuation-based Tokenizer (nltk.WordPunctTokenizer) | Preserves punctuation alongside words. | Analyzing emotional tone, identifying informal language, dialogue processing. |\n",
        "| Treebank Word Tokenizer (nltk.TreebankWordTokenizer) | Follows Penn Treebank rules, handles POS tags and punctuation. | Parsing text for grammar, dependency analysis, named entity recognition. |\n",
        "| Tweet Tokenizer (nltk.TweetTokenizer) | Designed for handling tweets, including hashtags, emojis, and mentions. | Analyzing social media data, sentiment analysis of online conversations, filtering unwanted content. |\n",
        "| Multi-Word Expression Tokenizer (nltk.MWETokenizer) | Recognizes and tokenizes multi-word expressions. | Identifying common phrases, improving accuracy in specific domains. |\n",
        "| TextBlob Word Tokenize | Similar to nltk.word_tokenize, with sentiment analysis capabilities. | Combining word-level analysis with sentiment understanding, generating emotional summaries. |\n",
        "| spaCy Tokenizer | Advanced statistical language model, providing rich token attributes. | Complex NLP tasks like named entity recognition, relationship extraction, text summarization. |\n",
        "| Gensim word tokenizer | Simple word-level tokenizer from Gensim library. | Building word embeddings, topic modeling, pre-processing for other Gensim tools. |\n",
        "| Tokenization with Keras | Integrates tokenization into Keras workflows, offering vocabulary control and padding. | Deep learning for NLP tasks like sentiment analysis, text classification, question answering. |\n"
      ],
      "metadata": {
        "id": "jOIXcQ5T7VHT"
      }
    },
    {
      "cell_type": "code",
      "source": [],
      "metadata": {
        "id": "g6n7jL805a5V"
      },
      "execution_count": 22,
      "outputs": []
    }
  ]
}