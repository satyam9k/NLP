{
  "nbformat": 4,
  "nbformat_minor": 0,
  "metadata": {
    "colab": {
      "provenance": []
    },
    "kernelspec": {
      "name": "python3",
      "display_name": "Python 3"
    },
    "language_info": {
      "name": "python"
    }
  },
  "cells": [
    {
      "cell_type": "code",
      "source": [
        "import nltk\n",
        "nltk.download('wordnet')\n",
        "from nltk.corpus import wordnet"
      ],
      "metadata": {
        "colab": {
          "base_uri": "https://localhost:8080/"
        },
        "id": "8X2V7auSSg5K",
        "outputId": "a801e0f2-7306-46f0-8129-474188dfd3b6"
      },
      "execution_count": 1,
      "outputs": [
        {
          "output_type": "stream",
          "name": "stderr",
          "text": [
            "[nltk_data] Downloading package wordnet to /root/nltk_data...\n",
            "[nltk_data]   Package wordnet is already up-to-date!\n"
          ]
        }
      ]
    },
    {
      "cell_type": "code",
      "execution_count": 2,
      "metadata": {
        "colab": {
          "base_uri": "https://localhost:8080/"
        },
        "id": "y-vlctybMODj",
        "outputId": "98e9c2fb-04f2-4fa5-e383-e4793f76d611"
      },
      "outputs": [
        {
          "output_type": "stream",
          "name": "stdout",
          "text": [
            "Third meaning of 'bear': have\n",
            "Third meaning of 'worst': the weakest effort or poorest achievement one is capable of\n",
            "Third meaning of 'play': a preset plan of action in team sports\n",
            "Third meaning of 'song': the act of singing\n",
            "Third meaning of 'good': that which is pleasing or valuable or useful\n"
          ]
        }
      ],
      "source": [
        "#a Find the 3rd meaning of the word in the list.\n",
        "\n",
        "words_list = ['bear', 'worst', 'play', 'song', 'good']\n",
        "\n",
        "def find_third_meaning(word):\n",
        "    synsets = wordnet.synsets(word)\n",
        "    if len(synsets) >= 3:\n",
        "        third_meaning = synsets[2]\n",
        "        return third_meaning.definition()\n",
        "    else:\n",
        "        return \"Word '{}' does not have a third meaning.\".format(word)\n",
        "\n",
        "for word in words_list:\n",
        "    print(\"Third meaning of '{}': {}\".format(word, find_third_meaning(word)))\n"
      ]
    },
    {
      "cell_type": "code",
      "source": [
        "#b Extract the nouns of the word from the synonyms list.\n",
        "\n",
        "def extract_nouns(word):\n",
        "    nouns = []\n",
        "    for syn in wordnet.synsets(word):\n",
        "        for lemma in syn.lemmas():\n",
        "            if syn.pos() == 'n':\n",
        "                nouns.append(lemma.name())\n",
        "    return nouns\n",
        "\n",
        "for word in words_list:\n",
        "    nouns = extract_nouns(word)\n",
        "    print(\"Nouns related to '{}': {}\".format(word, nouns))"
      ],
      "metadata": {
        "colab": {
          "base_uri": "https://localhost:8080/"
        },
        "id": "IAynMPxlSdjZ",
        "outputId": "c9856aca-d0a4-4f99-d17b-a725b179256c"
      },
      "execution_count": 3,
      "outputs": [
        {
          "output_type": "stream",
          "name": "stdout",
          "text": [
            "Nouns related to 'bear': ['bear', 'bear']\n",
            "Nouns related to 'worst': ['worst', 'worst', 'worst']\n",
            "Nouns related to 'play': ['play', 'drama', 'dramatic_play', 'play', 'play', 'maneuver', 'manoeuvre', 'play', 'play', 'play', 'bid', 'play', 'play', \"child's_play\", 'playing_period', 'period_of_play', 'play', 'free_rein', 'play', 'shimmer', 'play', 'fun', 'play', 'sport', 'looseness', 'play', 'play', 'frolic', 'romp', 'gambol', 'caper', 'turn', 'play', 'gambling', 'gaming', 'play', 'play', 'swordplay']\n",
            "Nouns related to 'song': ['song', 'vocal', 'song', 'song', 'strain', 'birdcall', 'call', 'birdsong', 'song', 'song', 'Sung', 'Sung_dynasty', 'Song', 'Song_dynasty']\n",
            "Nouns related to 'good': ['good', 'good', 'goodness', 'good', 'goodness', 'commodity', 'trade_good', 'good']\n"
          ]
        }
      ]
    },
    {
      "cell_type": "code",
      "source": [
        "#c Extract the verbs of the word from the synonyms list.\n",
        "def extract_verbs(word):\n",
        "    verbs = []\n",
        "    for syn in wordnet.synsets(word):\n",
        "        for lemma in syn.lemmas():\n",
        "            if syn.pos() == 'v':\n",
        "                verbs.append(lemma.name())\n",
        "    return verbs\n",
        "\n",
        "for word in words_list:\n",
        "    verbs = extract_verbs(word)\n",
        "    print(\"Verbs related to '{}': {}\".format(word, verbs))"
      ],
      "metadata": {
        "colab": {
          "base_uri": "https://localhost:8080/"
        },
        "id": "SrnCwk0jSz3n",
        "outputId": "d7f1a245-9198-49b1-8095-b4ef5a5e3134"
      },
      "execution_count": 4,
      "outputs": [
        {
          "output_type": "stream",
          "name": "stdout",
          "text": [
            "Verbs related to 'bear': ['bear', 'give_birth', 'deliver', 'bear', 'birth', 'have', 'digest', 'endure', 'stick_out', 'stomach', 'bear', 'stand', 'tolerate', 'support', 'brook', 'abide', 'suffer', 'put_up', 'bear', 'bear', 'turn_out', 'bear', 'take_over', 'accept', 'assume', 'hold', 'bear', 'carry', 'contain', 'yield', 'pay', 'bear', 'wear', 'bear', 'behave', 'acquit', 'bear', 'deport', 'conduct', 'comport', 'carry', 'bear', 'hold', 'hold', 'carry', 'bear', 'have_a_bun_in_the_oven', 'bear', 'carry', 'gestate', 'expect']\n",
            "Verbs related to 'worst': ['worst', 'pip', 'mop_up', 'whip', 'rack_up']\n",
            "Verbs related to 'play': ['play', 'play', 'play', 'act', 'play', 'represent', 'play', 'play', 'spiel', 'play', 'act', 'play', 'act_as', 'play', 'play', 'play', 'recreate', 'play', 'play', 'play', 'play', 'play', 'toy', 'play', 'play', 'run', 'toy', 'fiddle', 'diddle', 'play', 'play', 'dally', 'trifle', 'play', 'play', 'dally', 'toy', 'play', 'flirt', 'play', 'act', 'play', 'roleplay', 'playact', 'play', 'bring', 'work', 'play', 'wreak', 'make_for', 'play', 'play', 'bet', 'wager', 'play', 'play', 'play', 'play', 'meet', 'encounter', 'play', 'take_on', 'play']\n",
            "Verbs related to 'song': []\n",
            "Verbs related to 'good': []\n"
          ]
        }
      ]
    },
    {
      "cell_type": "code",
      "source": [
        "#d Extract the adjectives of the word from the synonyms list.\n",
        "def extract_adjectives(word):\n",
        "    adjectives = []\n",
        "    for syn in wordnet.synsets(word):\n",
        "        for lemma in syn.lemmas():\n",
        "            if syn.pos() == 'a':\n",
        "                adjectives.append(lemma.name())\n",
        "    return adjectives\n",
        "\n",
        "for word in words_list:\n",
        "    adjectives = extract_adjectives(word)\n",
        "    print(\"Adjectives related to '{}': {}\".format(word, adjectives))"
      ],
      "metadata": {
        "colab": {
          "base_uri": "https://localhost:8080/"
        },
        "id": "RYKLFOeBS8G1",
        "outputId": "bcda116b-81eb-4e17-e07f-4f53c8fadae9"
      },
      "execution_count": 5,
      "outputs": [
        {
          "output_type": "stream",
          "name": "stdout",
          "text": [
            "Adjectives related to 'bear': []\n",
            "Adjectives related to 'worst': ['worst', 'bad', 'regretful', 'sorry', 'bad']\n",
            "Adjectives related to 'play': []\n",
            "Adjectives related to 'song': []\n",
            "Adjectives related to 'good': ['good', 'good']\n"
          ]
        }
      ]
    },
    {
      "cell_type": "code",
      "source": [
        "#e Extract the adverbs of the word from the synonyms list.\n",
        "\n",
        "def extract_adverbs(word):\n",
        "    adverbs = []\n",
        "    for syn in wordnet.synsets(word):\n",
        "        for lemma in syn.lemmas():\n",
        "            if syn.pos() == 'r':\n",
        "                adverbs.append(lemma.name())\n",
        "    return adverbs\n",
        "\n",
        "for word in words_list:\n",
        "    adverbs = extract_adverbs(word)\n",
        "    print(\"Adverbs related to '{}': {}\".format(word, adverbs))"
      ],
      "metadata": {
        "colab": {
          "base_uri": "https://localhost:8080/"
        },
        "id": "oeMxbkAHTbTU",
        "outputId": "92d2644f-5f2e-4beb-b425-646fadb5241a"
      },
      "execution_count": 6,
      "outputs": [
        {
          "output_type": "stream",
          "name": "stdout",
          "text": [
            "Adverbs related to 'bear': []\n",
            "Adverbs related to 'worst': ['worst']\n",
            "Adverbs related to 'play': []\n",
            "Adverbs related to 'song': []\n",
            "Adverbs related to 'good': ['well', 'good', 'thoroughly', 'soundly', 'good']\n"
          ]
        }
      ]
    },
    {
      "cell_type": "code",
      "source": [
        "#f Extract the definition of the word.\n",
        "def extract_definition(word):\n",
        "    synsets = wordnet.synsets(word)\n",
        "    if synsets:\n",
        "        return synsets[0].definition()\n",
        "    else:\n",
        "        return \"No definition found for '{}'.\".format(word)\n",
        "\n",
        "for word in words_list:\n",
        "    definition = extract_definition(word)\n",
        "    print(\"Definition of '{}': {}\".format(word, definition))"
      ],
      "metadata": {
        "colab": {
          "base_uri": "https://localhost:8080/"
        },
        "id": "Qp4s2pXbUPuG",
        "outputId": "d0519eac-24aa-4944-b06a-5a00f59d4f64"
      },
      "execution_count": 7,
      "outputs": [
        {
          "output_type": "stream",
          "name": "stdout",
          "text": [
            "Definition of 'bear': massive plantigrade carnivorous or omnivorous mammals with long shaggy coats and strong claws\n",
            "Definition of 'worst': the least favorable outcome\n",
            "Definition of 'play': a dramatic work intended for performance by actors on a stage\n",
            "Definition of 'song': a short musical composition with words\n",
            "Definition of 'good': benefit\n"
          ]
        }
      ]
    },
    {
      "cell_type": "code",
      "source": [
        "#g Find the hypernyms of each word.\n",
        "def find_hypernyms(word):\n",
        "    hypernyms_list = []\n",
        "    for syn in wordnet.synsets(word):\n",
        "        for hypernym in syn.hypernyms():\n",
        "            hypernyms_list.append(hypernym.name().split('.')[0])\n",
        "    return hypernyms_list\n",
        "\n",
        "for word in words_list:\n",
        "    hypernyms = find_hypernyms(word)\n",
        "    print(\"Hypernyms of '{}': {}\".format(word, hypernyms))"
      ],
      "metadata": {
        "colab": {
          "base_uri": "https://localhost:8080/"
        },
        "id": "4WUL3pChVE4N",
        "outputId": "baa6ee3f-0624-4fbc-d65b-13368e0482d5"
      },
      "execution_count": 8,
      "outputs": [
        {
          "output_type": "stream",
          "name": "stdout",
          "text": [
            "Hypernyms of 'bear': ['carnivore', 'investor', 'have', 'produce', 'permit', 'transport', 'make', 'take', 'include', 'gain', 'have', 'act', 'hold', 'have', 'give_birth']\n",
            "Hypernyms of 'worst': ['result', 'evil', 'attempt', 'beat']\n",
            "Hypernyms of 'play': ['dramatic_composition', 'show', 'plan_of_action', 'motion', 'action', 'use', 'attempt', 'diversion', 'measure', 'freedom', 'change', 'wit', 'movability', 'diversion', 'activity', 'diversion', 'vice', 'action', 'compete', 'act', 'perform', 're-create', 'act', 're-create', 'sound', 'act', 'travel', 'gamble', 'simulate', 'sound', 'perform', 'deploy', 'act', 'act', 'manipulate', 'exploit', 'consider', 'act', 'move', 'perform', 'make', 'discharge', 'bet', 'gamble', 'hit', 'use', 'use', 'exhaust']\n",
            "Hypernyms of 'song': ['musical_composition', 'sound', 'vocal_music', 'animal_communication', 'bargain', 'dynasty']\n",
            "Hypernyms of 'good': ['advantage', 'morality', 'quality', 'artifact']\n"
          ]
        }
      ]
    },
    {
      "cell_type": "code",
      "source": [
        "#h Find the hyponyms of each word.\n",
        "def find_hyponyms(word):\n",
        "    hyponyms_list = []\n",
        "    for syn in wordnet.synsets(word):\n",
        "        for hyponym in syn.hyponyms():\n",
        "            hyponyms_list.append(hyponym.name().split('.')[0])\n",
        "    return hyponyms_list\n",
        "\n",
        "for word in words_list:\n",
        "    hyponyms = find_hyponyms(word)\n",
        "    print(\"Hyponyms of '{}': {}\".format(word, hyponyms))"
      ],
      "metadata": {
        "colab": {
          "base_uri": "https://localhost:8080/"
        },
        "id": "Hm-szU3sVNOa",
        "outputId": "fdcd274e-b1e9-46df-bad5-566c90d8090a"
      },
      "execution_count": 9,
      "outputs": [
        {
          "output_type": "stream",
          "name": "stdout",
          "text": [
            "Hyponyms of 'bear': ['american_black_bear', 'asiatic_black_bear', 'bear_cub', 'brown_bear', 'bruin', 'ice_bear', 'sloth_bear', 'carry', 'calve', 'cub', 'drop', 'farrow', 'fawn', 'foal', 'have_a_bun_in_the_oven', 'kitten', 'lamb', 'litter', 'twin', 'whelp', 'accept', 'bear_up', 'pay', 'sit_out', 'stand_for', 'take_a_joke', 'take_lying_down', 'frogmarch', 'crop', 'fruit', 'overbear', 'seed', 'spin_off', 'face_the_music', 'enclose', 'retain', 'net', 'pay_off', 'assert', 'deal', 'fluster', 'pose', 'walk_around', 'behave', 'piggyback', 'poise', 'sling', 'stoop']\n",
            "Hyponyms of 'worst': []\n",
            "Hyponyms of 'play': ['grand_guignol', 'miracle_play', 'morality_play', 'mystery_play', 'passion_play', 'playlet', 'satyr_play', 'theater_of_the_absurd', 'curtain_raiser', 'musical', 'basketball_play', 'football_play', 'knock_on', 'power_play', 'razzle-dazzle', 'assist', 'ball_hawking', 'baseball_play', 'completion', 'figure', 'footwork', 'icing', 'jugglery', 'mousetrap', 'obstruction', 'safety_blitz', 'stroke', 'takeaway', 'doctor', 'fireman', 'house', 'hole', 'set', 'drollery', 'jocosity', 'pun', 'waggery', 'slack', 'wiggliness', 'flirt', 'folly', 'game', 'horseplay', 'teasing', 'word_play', 'attack', 'bat', 'down', 'innings', 'lead', 'move', 'ruff', 'start', 'trick', 'bet', 'game_of_chance', 'sporting_life', 'throw', 'fencing', 'ace', 'backstop', 'bandy', 'bid', 'bowl', 'catch', 'complete', 'cradle', 'cricket', 'croquet', 'curl', 'develop', 'develop', 'die', 'exit', 'face_off', 'field', 'foul', 'fullback', 'fumble', 'gamble', 'golf', 'line_up', 'misplay', 'play_out', 'put_out', 'putt', 'quarterback', 'replay', 'revoke', 'snooker', 'start', 'tee_off', 'teeter-totter', 'unblock', 'volley', 'walk', 'bow', 'busk', 'play_along', 'sound_off', 'swing', 'symphonize', 'act_out', 'emote', 'enact', 'impersonate', 'make', 'parody', 'support', 'dabble', 'frolic', 'horse_around', 'roughhouse', 'bang_out', 'bugle', 'fiddle', 'jazz', 'misplay', 'modulate', 'prelude', 'rag', 'replay', 'reprise', 'riff', 'slur', 'tongue', 'beat', 'chord', 'clarion', 'drum', 'fiddle', 'harp', 'pipe', 'register', 'skirl', 'trumpet', 'tweedle', 'underplay', 'cover', 'declare', 'pitch', 'put_out', 'mime', 'overact', 'stooge', 'underact', 'debut', 'bet_on', 'play', 'raise', 'see', 'hook', 'promote', 'confront', 'replay']\n",
            "Hyponyms of 'song': ['anthem', 'aria', 'ballad', 'barcarole', 'dirge', 'ditty', 'drinking_song', 'folk_song', 'lied', 'love_song', 'lullaby', 'oldie', 'partsong', 'prothalamion', 'religious_song', 'roundelay', 'scolion', 'serenade', 'torch_song', 'work_song', 'carol', 'lullaby', 'bell-like_call', 'two-note_call']\n",
            "Hyponyms of 'good': ['common_good', 'beneficence', 'benignity', 'kindness', 'saintliness', 'summum_bonum', 'virtue', 'virtue', 'benefit', 'better', 'better', 'desirability', 'optimum', 'wisdom', 'worthiness', 'basic', 'consumer_goods', 'drygoods', 'entrant', 'export', 'fancy_goods', 'fungible', 'future', 'import', 'merchandise', 'middling', 'salvage', 'shopping', 'sporting_goods', 'worldly_possession']\n"
          ]
        }
      ]
    },
    {
      "cell_type": "code",
      "source": [
        "#i Find the similarities of any two hyponyms of a word.\n",
        "def find_hyponym_similarity(word):\n",
        "    hyponyms = []\n",
        "    for syn in wordnet.synsets(word):\n",
        "        for hyponym in syn.hyponyms():\n",
        "            hyponyms.append(hyponym)\n",
        "\n",
        "    if len(hyponyms) < 2:\n",
        "        return \"At least two hyponyms are required to find similarity.\"\n",
        "\n",
        "    similarity = hyponyms[0].path_similarity(hyponyms[1])\n",
        "    return \"Similarity between '{}' and '{}' hyponyms: {}\".format(hyponyms[0].name().split('.')[0], hyponyms[1].name().split('.')[0], similarity)\n",
        "\n",
        "word = 'good'\n",
        "similarity_result = find_hyponym_similarity(word)\n",
        "print(similarity_result)"
      ],
      "metadata": {
        "colab": {
          "base_uri": "https://localhost:8080/"
        },
        "id": "w6-ZfBDwVUyr",
        "outputId": "ff6cf7dd-ebba-4318-c999-0caa050f8fb2"
      },
      "execution_count": 10,
      "outputs": [
        {
          "output_type": "stream",
          "name": "stdout",
          "text": [
            "Similarity between 'common_good' and 'beneficence' hyponyms: 0.125\n"
          ]
        }
      ]
    },
    {
      "cell_type": "markdown",
      "source": [
        "| Method                       | Purpose                                                                                                                                    | Example Usage                                  |\n",
        "|------------------------------|--------------------------------------------------------------------------------------------------------------------------------------------|------------------------------------------------|\n",
        "| find_third_meaning           | Find the 3rd meaning of a word using WordNet synsets                                                                                        | find_third_meaning('happy')                     |\n",
        "| extract_nouns                | Extract the nouns related to a given word from the WordNet synonyms list                                                                   | extract_nouns('play')                           |\n",
        "| extract_verbs                | Extract the verbs related to a given word from the WordNet synonyms list                                                                   | extract_verbs('strong')                         |\n",
        "| extract_adjectives           | Extract the adjectives related to a given word from the WordNet synonyms list                                                              | extract_adjectives('beautiful')                 |\n",
        "| extract_adverbs              | Extract the adverbs related to a given word from the WordNet synonyms list                                                                 | extract_adverbs('quickly')                      |\n",
        "| extract_definition           | Extract the definition of the word from WordNet synsets                                                                                     | extract_definition('happy')                     |\n",
        "| find_hypernyms               | Find the hypernyms (parent terms) of a word using WordNet synsets                                                                           | find_hypernyms('happy')                         |\n",
        "| find_hyponyms                | Find the hyponyms (child terms) of a word using WordNet synsets                                                                             | find_hyponyms('animal')                         |\n",
        "| find_hyponym_similarity      | Find the similarity between two hyponyms of a word using WordNet synsets                                                                   | find_hyponym_similarity('animal')               |\n"
      ],
      "metadata": {
        "id": "IKktL3LuWe3P"
      }
    },
    {
      "cell_type": "code",
      "source": [],
      "metadata": {
        "id": "edWDuyloV7qJ"
      },
      "execution_count": 10,
      "outputs": []
    }
  ]
}