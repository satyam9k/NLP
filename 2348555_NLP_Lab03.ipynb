{
  "nbformat": 4,
  "nbformat_minor": 0,
  "metadata": {
    "colab": {
      "provenance": []
    },
    "kernelspec": {
      "name": "python3",
      "display_name": "Python 3"
    },
    "language_info": {
      "name": "python"
    }
  },
  "cells": [
    {
      "cell_type": "code",
      "execution_count": 13,
      "metadata": {
        "id": "xKsp-iumJsZ4"
      },
      "outputs": [],
      "source": [
        "# libraries\n",
        "import nltk\n",
        "from nltk.tokenize import word_tokenize\n",
        "from textblob import TextBlob\n",
        "import spacy\n",
        "from spacy.lang.hi import Hindi\n",
        "import gensim\n",
        "from gensim.utils import simple_preprocess\n",
        "\n"
      ]
    },
    {
      "cell_type": "code",
      "source": [
        "# paragraphs in Hindi and Spanish\n",
        "hindi_para = \"फॉर्मूला वन, जिसे आमतौर पर फॉर्मूला 1 या एफ1 के नाम से जाना जाता है, फेडरेशन इंटरनेशनेल डी ल'ऑटोमोबाइल (एफआईए) द्वारा स्वीकृत ओपन-व्हील सिंगल-सीटर फॉर्मूला रेसिंग कारों के लिए अंतरराष्ट्रीय रेसिंग का उच्चतम वर्ग है। एफआईए फॉर्मूला वन वर्ल्ड चैंपियनशिप 1950 में अपने उद्घाटन के बाद से दुनिया भर में रेसिंग के प्रमुख रूपों में से एक रही है। नाम में फॉर्मूला शब्द नियमों के सेट को संदर्भित करता है जिसके लिए सभी प्रतिभागियों की कारों का पालन करना होगा। फ़ॉर्मूला वन सीज़न में दौड़ की एक श्रृंखला शामिल होती है, जिसे ग्रां प्री के नाम से जाना जाता है। ग्रांड प्रिक्स दुनिया भर के कई देशों और महाद्वीपों में या तो उद्देश्य-निर्मित सर्किट या बंद सार्वजनिक सड़कों पर होता है।\"\n",
        "spanish_para = \"La Fórmula Uno, comúnmente conocida como Fórmula 1 o F1, es la clase más alta de carreras internacionales para autos de carreras de fórmula monoplaza de ruedas abiertas sancionada por la Fédération Internationale de l'Automobile (FIA). El Campeonato Mundial de Fórmula Uno de la FIA ha sido una de las principales formas de carreras en todo el mundo desde su inauguración en 1950. La palabra fórmula en el nombre se refiere al conjunto de reglas que deben cumplir todos los autos de los participantes. Una temporada de Fórmula Uno consta de una serie de carreras, conocidas como Grandes Premios. Los Grandes Premios se llevan a cabo en varios países y continentes de todo el mundo, ya sea en circuitos especialmente diseñados o en vías públicas cerradas.\"\n",
        "\n"
      ],
      "metadata": {
        "id": "eqoa1QaELfT8"
      },
      "execution_count": 14,
      "outputs": []
    },
    {
      "cell_type": "code",
      "source": [
        "nltk.download('punkt')\n",
        "nltk.download('indian')\n",
        "nltk.download('spanish_grammars')\n"
      ],
      "metadata": {
        "colab": {
          "base_uri": "https://localhost:8080/"
        },
        "id": "AW3jo0m7MaWI",
        "outputId": "37cb553a-eaf2-4efa-b438-7cc45a635653"
      },
      "execution_count": 15,
      "outputs": [
        {
          "output_type": "stream",
          "name": "stderr",
          "text": [
            "[nltk_data] Downloading package punkt to /root/nltk_data...\n",
            "[nltk_data]   Package punkt is already up-to-date!\n",
            "[nltk_data] Downloading package indian to /root/nltk_data...\n",
            "[nltk_data]   Package indian is already up-to-date!\n",
            "[nltk_data] Downloading package spanish_grammars to /root/nltk_data...\n",
            "[nltk_data]   Package spanish_grammars is already up-to-date!\n"
          ]
        },
        {
          "output_type": "execute_result",
          "data": {
            "text/plain": [
              "True"
            ]
          },
          "metadata": {},
          "execution_count": 15
        }
      ]
    },
    {
      "cell_type": "code",
      "source": [
        "# Tokenize using NLTK\n",
        "nltk_hindi_tokens = word_tokenize(hindi_para)\n",
        "nltk_spanish_tokens = word_tokenize(spanish_para)\n",
        "print(\"NLTK Hindi Tokens:\", nltk_hindi_tokens)\n",
        "print(\"NLTK Spanish Tokens:\", nltk_spanish_tokens)\n",
        "\n",
        "\n"
      ],
      "metadata": {
        "colab": {
          "base_uri": "https://localhost:8080/"
        },
        "id": "d9OyiGNyLfWi",
        "outputId": "30500ca9-ba20-48d4-88a4-3e0b291d3fcd"
      },
      "execution_count": 16,
      "outputs": [
        {
          "output_type": "stream",
          "name": "stdout",
          "text": [
            "NLTK Hindi Tokens: ['फॉर्मूला', 'वन', ',', 'जिसे', 'आमतौर', 'पर', 'फॉर्मूला', '1', 'या', 'एफ1', 'के', 'नाम', 'से', 'जाना', 'जाता', 'है', ',', 'फेडरेशन', 'इंटरनेशनेल', 'डी', \"ल'ऑटोमोबाइल\", '(', 'एफआईए', ')', 'द्वारा', 'स्वीकृत', 'ओपन-व्हील', 'सिंगल-सीटर', 'फॉर्मूला', 'रेसिंग', 'कारों', 'के', 'लिए', 'अंतरराष्ट्रीय', 'रेसिंग', 'का', 'उच्चतम', 'वर्ग', 'है।', 'एफआईए', 'फॉर्मूला', 'वन', 'वर्ल्ड', 'चैंपियनशिप', '1950', 'में', 'अपने', 'उद्घाटन', 'के', 'बाद', 'से', 'दुनिया', 'भर', 'में', 'रेसिंग', 'के', 'प्रमुख', 'रूपों', 'में', 'से', 'एक', 'रही', 'है।', 'नाम', 'में', 'फॉर्मूला', 'शब्द', 'नियमों', 'के', 'सेट', 'को', 'संदर्भित', 'करता', 'है', 'जिसके', 'लिए', 'सभी', 'प्रतिभागियों', 'की', 'कारों', 'का', 'पालन', 'करना', 'होगा।', 'फ़ॉर्मूला', 'वन', 'सीज़न', 'में', 'दौड़', 'की', 'एक', 'श्रृंखला', 'शामिल', 'होती', 'है', ',', 'जिसे', 'ग्रां', 'प्री', 'के', 'नाम', 'से', 'जाना', 'जाता', 'है।', 'ग्रांड', 'प्रिक्स', 'दुनिया', 'भर', 'के', 'कई', 'देशों', 'और', 'महाद्वीपों', 'में', 'या', 'तो', 'उद्देश्य-निर्मित', 'सर्किट', 'या', 'बंद', 'सार्वजनिक', 'सड़कों', 'पर', 'होता', 'है।']\n",
            "NLTK Spanish Tokens: ['La', 'Fórmula', 'Uno', ',', 'comúnmente', 'conocida', 'como', 'Fórmula', '1', 'o', 'F1', ',', 'es', 'la', 'clase', 'más', 'alta', 'de', 'carreras', 'internacionales', 'para', 'autos', 'de', 'carreras', 'de', 'fórmula', 'monoplaza', 'de', 'ruedas', 'abiertas', 'sancionada', 'por', 'la', 'Fédération', 'Internationale', 'de', \"l'Automobile\", '(', 'FIA', ')', '.', 'El', 'Campeonato', 'Mundial', 'de', 'Fórmula', 'Uno', 'de', 'la', 'FIA', 'ha', 'sido', 'una', 'de', 'las', 'principales', 'formas', 'de', 'carreras', 'en', 'todo', 'el', 'mundo', 'desde', 'su', 'inauguración', 'en', '1950', '.', 'La', 'palabra', 'fórmula', 'en', 'el', 'nombre', 'se', 'refiere', 'al', 'conjunto', 'de', 'reglas', 'que', 'deben', 'cumplir', 'todos', 'los', 'autos', 'de', 'los', 'participantes', '.', 'Una', 'temporada', 'de', 'Fórmula', 'Uno', 'consta', 'de', 'una', 'serie', 'de', 'carreras', ',', 'conocidas', 'como', 'Grandes', 'Premios', '.', 'Los', 'Grandes', 'Premios', 'se', 'llevan', 'a', 'cabo', 'en', 'varios', 'países', 'y', 'continentes', 'de', 'todo', 'el', 'mundo', ',', 'ya', 'sea', 'en', 'circuitos', 'especialmente', 'diseñados', 'o', 'en', 'vías', 'públicas', 'cerradas', '.']\n"
          ]
        }
      ]
    },
    {
      "cell_type": "code",
      "source": [
        "# Tokenize using TextBlob\n",
        "blob_hindi = TextBlob(hindi_para)\n",
        "blob_hindi_tokens = blob_hindi.words\n",
        "blob_spanish = TextBlob(spanish_para)\n",
        "blob_spanish_tokens = blob_spanish.words\n",
        "print(\"TextBlob Hindi Tokens:\", blob_hindi_tokens)\n",
        "print(\"TextBlob Spanish Tokens:\", blob_spanish_tokens)\n",
        "\n"
      ],
      "metadata": {
        "colab": {
          "base_uri": "https://localhost:8080/"
        },
        "id": "524EV_22LfYs",
        "outputId": "0da2f754-62f3-4da6-a1f1-58e65599ca76"
      },
      "execution_count": 17,
      "outputs": [
        {
          "output_type": "stream",
          "name": "stdout",
          "text": [
            "TextBlob Hindi Tokens: ['फॉर्मूला', 'वन', 'जिसे', 'आमतौर', 'पर', 'फॉर्मूला', '1', 'या', 'एफ1', 'के', 'नाम', 'से', 'जाना', 'जाता', 'है', 'फेडरेशन', 'इंटरनेशनेल', 'डी', \"ल'ऑटोमोबाइल\", 'एफआईए', 'द्वारा', 'स्वीकृत', 'ओपन-व्हील', 'सिंगल-सीटर', 'फॉर्मूला', 'रेसिंग', 'कारों', 'के', 'लिए', 'अंतरराष्ट्रीय', 'रेसिंग', 'का', 'उच्चतम', 'वर्ग', 'है।', 'एफआईए', 'फॉर्मूला', 'वन', 'वर्ल्ड', 'चैंपियनशिप', '1950', 'में', 'अपने', 'उद्घाटन', 'के', 'बाद', 'से', 'दुनिया', 'भर', 'में', 'रेसिंग', 'के', 'प्रमुख', 'रूपों', 'में', 'से', 'एक', 'रही', 'है।', 'नाम', 'में', 'फॉर्मूला', 'शब्द', 'नियमों', 'के', 'सेट', 'को', 'संदर्भित', 'करता', 'है', 'जिसके', 'लिए', 'सभी', 'प्रतिभागियों', 'की', 'कारों', 'का', 'पालन', 'करना', 'होगा।', 'फ़ॉर्मूला', 'वन', 'सीज़न', 'में', 'दौड़', 'की', 'एक', 'श्रृंखला', 'शामिल', 'होती', 'है', 'जिसे', 'ग्रां', 'प्री', 'के', 'नाम', 'से', 'जाना', 'जाता', 'है।', 'ग्रांड', 'प्रिक्स', 'दुनिया', 'भर', 'के', 'कई', 'देशों', 'और', 'महाद्वीपों', 'में', 'या', 'तो', 'उद्देश्य-निर्मित', 'सर्किट', 'या', 'बंद', 'सार्वजनिक', 'सड़कों', 'पर', 'होता', 'है।']\n",
            "TextBlob Spanish Tokens: ['La', 'Fórmula', 'Uno', 'comúnmente', 'conocida', 'como', 'Fórmula', '1', 'o', 'F1', 'es', 'la', 'clase', 'más', 'alta', 'de', 'carreras', 'internacionales', 'para', 'autos', 'de', 'carreras', 'de', 'fórmula', 'monoplaza', 'de', 'ruedas', 'abiertas', 'sancionada', 'por', 'la', 'Fédération', 'Internationale', 'de', \"l'Automobile\", 'FIA', 'El', 'Campeonato', 'Mundial', 'de', 'Fórmula', 'Uno', 'de', 'la', 'FIA', 'ha', 'sido', 'una', 'de', 'las', 'principales', 'formas', 'de', 'carreras', 'en', 'todo', 'el', 'mundo', 'desde', 'su', 'inauguración', 'en', '1950', 'La', 'palabra', 'fórmula', 'en', 'el', 'nombre', 'se', 'refiere', 'al', 'conjunto', 'de', 'reglas', 'que', 'deben', 'cumplir', 'todos', 'los', 'autos', 'de', 'los', 'participantes', 'Una', 'temporada', 'de', 'Fórmula', 'Uno', 'consta', 'de', 'una', 'serie', 'de', 'carreras', 'conocidas', 'como', 'Grandes', 'Premios', 'Los', 'Grandes', 'Premios', 'se', 'llevan', 'a', 'cabo', 'en', 'varios', 'países', 'y', 'continentes', 'de', 'todo', 'el', 'mundo', 'ya', 'sea', 'en', 'circuitos', 'especialmente', 'diseñados', 'o', 'en', 'vías', 'públicas', 'cerradas']\n"
          ]
        }
      ]
    },
    {
      "cell_type": "code",
      "source": [
        "# Tokenize using spaCy for Hindi\n",
        "nlp_hindi = Hindi()\n",
        "spacy_hindi_doc = nlp_hindi(hindi_para)\n",
        "spacy_hindi_tokens = [token.text for token in spacy_hindi_doc]\n",
        "print(\"spaCy Hindi Tokens:\", spacy_hindi_tokens)\n",
        "\n"
      ],
      "metadata": {
        "colab": {
          "base_uri": "https://localhost:8080/"
        },
        "id": "pxABTgmHLfbJ",
        "outputId": "c564a5af-1174-4d26-bb3d-5e1b8ce106b5"
      },
      "execution_count": 18,
      "outputs": [
        {
          "output_type": "stream",
          "name": "stdout",
          "text": [
            "spaCy Hindi Tokens: ['फॉर्मूला', 'वन', ',', 'जिसे', 'आमतौर', 'पर', 'फॉर्मूला', '1', 'या', 'एफ1', 'के', 'नाम', 'से', 'जाना', 'जाता', 'है', ',', 'फेडरेशन', 'इंटरनेशनेल', 'डी', \"ल'ऑटोमोबाइल\", '(', 'एफआईए', ')', 'द्वारा', 'स्वीकृत', 'ओपन', '-', 'व्हील', 'सिंगल', '-', 'सीटर', 'फॉर्मूला', 'रेसिंग', 'कारों', 'के', 'लिए', 'अंतरराष्ट्रीय', 'रेसिंग', 'का', 'उच्चतम', 'वर्ग', 'है', '।', 'एफआईए', 'फॉर्मूला', 'वन', 'वर्ल्ड', 'चैंपियनशिप', '1950', 'में', 'अपने', 'उद्घाटन', 'के', 'बाद', 'से', 'दुनिया', 'भर', 'में', 'रेसिंग', 'के', 'प्रमुख', 'रूपों', 'में', 'से', 'एक', 'रही', 'है', '।', 'नाम', 'में', 'फॉर्मूला', 'शब्द', 'नियमों', 'के', 'सेट', 'को', 'संदर्भित', 'करता', 'है', 'जिसके', 'लिए', 'सभी', 'प्रतिभागियों', 'की', 'कारों', 'का', 'पालन', 'करना', 'होगा', '।', 'फ़ॉर्मूला', 'वन', 'सीज़न', 'में', 'दौड़', 'की', 'एक', 'श्रृंखला', 'शामिल', 'होती', 'है', ',', 'जिसे', 'ग्रां', 'प्री', 'के', 'नाम', 'से', 'जाना', 'जाता', 'है', '।', 'ग्रांड', 'प्रिक्स', 'दुनिया', 'भर', 'के', 'कई', 'देशों', 'और', 'महाद्वीपों', 'में', 'या', 'तो', 'उद्देश्य', '-', 'निर्मित', 'सर्किट', 'या', 'बंद', 'सार्वजनिक', 'सड़कों', 'पर', 'होता', 'है', '।']\n"
          ]
        }
      ]
    },
    {
      "cell_type": "code",
      "source": [
        "!pip install es-core-news-sm\n"
      ],
      "metadata": {
        "colab": {
          "base_uri": "https://localhost:8080/"
        },
        "id": "MtEQrTsCM8kt",
        "outputId": "f1bdfada-e3e9-46f1-c5e1-75b006b0a766"
      },
      "execution_count": 19,
      "outputs": [
        {
          "output_type": "stream",
          "name": "stdout",
          "text": [
            "Requirement already satisfied: es-core-news-sm in /usr/local/lib/python3.10/dist-packages (3.1.0)\n",
            "Requirement already satisfied: spacy<3.2.0,>=3.1.0 in /usr/local/lib/python3.10/dist-packages (from es-core-news-sm) (3.1.7)\n",
            "Requirement already satisfied: spacy-legacy<3.1.0,>=3.0.8 in /usr/local/lib/python3.10/dist-packages (from spacy<3.2.0,>=3.1.0->es-core-news-sm) (3.0.12)\n",
            "Requirement already satisfied: murmurhash<1.1.0,>=0.28.0 in /usr/local/lib/python3.10/dist-packages (from spacy<3.2.0,>=3.1.0->es-core-news-sm) (1.0.10)\n",
            "Requirement already satisfied: cymem<2.1.0,>=2.0.2 in /usr/local/lib/python3.10/dist-packages (from spacy<3.2.0,>=3.1.0->es-core-news-sm) (2.0.8)\n",
            "Requirement already satisfied: preshed<3.1.0,>=3.0.2 in /usr/local/lib/python3.10/dist-packages (from spacy<3.2.0,>=3.1.0->es-core-news-sm) (3.0.9)\n",
            "Requirement already satisfied: thinc<8.1.0,>=8.0.12 in /usr/local/lib/python3.10/dist-packages (from spacy<3.2.0,>=3.1.0->es-core-news-sm) (8.0.17)\n",
            "Requirement already satisfied: blis<0.8.0,>=0.4.0 in /usr/local/lib/python3.10/dist-packages (from spacy<3.2.0,>=3.1.0->es-core-news-sm) (0.7.11)\n",
            "Requirement already satisfied: wasabi<1.1.0,>=0.8.1 in /usr/local/lib/python3.10/dist-packages (from spacy<3.2.0,>=3.1.0->es-core-news-sm) (0.10.1)\n",
            "Requirement already satisfied: srsly<3.0.0,>=2.4.1 in /usr/local/lib/python3.10/dist-packages (from spacy<3.2.0,>=3.1.0->es-core-news-sm) (2.4.8)\n",
            "Requirement already satisfied: catalogue<2.1.0,>=2.0.6 in /usr/local/lib/python3.10/dist-packages (from spacy<3.2.0,>=3.1.0->es-core-news-sm) (2.0.10)\n",
            "Requirement already satisfied: typer<0.5.0,>=0.3.0 in /usr/local/lib/python3.10/dist-packages (from spacy<3.2.0,>=3.1.0->es-core-news-sm) (0.4.2)\n",
            "Requirement already satisfied: pathy>=0.3.5 in /usr/local/lib/python3.10/dist-packages (from spacy<3.2.0,>=3.1.0->es-core-news-sm) (0.11.0)\n",
            "Requirement already satisfied: smart-open<7.0.0,>=5.2.1 in /usr/local/lib/python3.10/dist-packages (from spacy<3.2.0,>=3.1.0->es-core-news-sm) (6.4.0)\n",
            "Requirement already satisfied: tqdm<5.0.0,>=4.38.0 in /usr/local/lib/python3.10/dist-packages (from spacy<3.2.0,>=3.1.0->es-core-news-sm) (4.66.2)\n",
            "Requirement already satisfied: numpy>=1.15.0 in /usr/local/lib/python3.10/dist-packages (from spacy<3.2.0,>=3.1.0->es-core-news-sm) (1.25.2)\n",
            "Requirement already satisfied: requests<3.0.0,>=2.13.0 in /usr/local/lib/python3.10/dist-packages (from spacy<3.2.0,>=3.1.0->es-core-news-sm) (2.31.0)\n",
            "Requirement already satisfied: pydantic!=1.8,!=1.8.1,<1.9.0,>=1.7.4 in /usr/local/lib/python3.10/dist-packages (from spacy<3.2.0,>=3.1.0->es-core-news-sm) (1.8.2)\n",
            "Requirement already satisfied: jinja2 in /usr/local/lib/python3.10/dist-packages (from spacy<3.2.0,>=3.1.0->es-core-news-sm) (3.1.3)\n",
            "Requirement already satisfied: setuptools in /usr/local/lib/python3.10/dist-packages (from spacy<3.2.0,>=3.1.0->es-core-news-sm) (67.7.2)\n",
            "Requirement already satisfied: packaging>=20.0 in /usr/local/lib/python3.10/dist-packages (from spacy<3.2.0,>=3.1.0->es-core-news-sm) (23.2)\n",
            "Requirement already satisfied: pathlib-abc==0.1.1 in /usr/local/lib/python3.10/dist-packages (from pathy>=0.3.5->spacy<3.2.0,>=3.1.0->es-core-news-sm) (0.1.1)\n",
            "Requirement already satisfied: typing-extensions>=3.7.4.3 in /usr/local/lib/python3.10/dist-packages (from pydantic!=1.8,!=1.8.1,<1.9.0,>=1.7.4->spacy<3.2.0,>=3.1.0->es-core-news-sm) (4.9.0)\n",
            "Requirement already satisfied: charset-normalizer<4,>=2 in /usr/local/lib/python3.10/dist-packages (from requests<3.0.0,>=2.13.0->spacy<3.2.0,>=3.1.0->es-core-news-sm) (3.3.2)\n",
            "Requirement already satisfied: idna<4,>=2.5 in /usr/local/lib/python3.10/dist-packages (from requests<3.0.0,>=2.13.0->spacy<3.2.0,>=3.1.0->es-core-news-sm) (3.6)\n",
            "Requirement already satisfied: urllib3<3,>=1.21.1 in /usr/local/lib/python3.10/dist-packages (from requests<3.0.0,>=2.13.0->spacy<3.2.0,>=3.1.0->es-core-news-sm) (2.0.7)\n",
            "Requirement already satisfied: certifi>=2017.4.17 in /usr/local/lib/python3.10/dist-packages (from requests<3.0.0,>=2.13.0->spacy<3.2.0,>=3.1.0->es-core-news-sm) (2024.2.2)\n",
            "Requirement already satisfied: click<9.0.0,>=7.1.1 in /usr/local/lib/python3.10/dist-packages (from typer<0.5.0,>=0.3.0->spacy<3.2.0,>=3.1.0->es-core-news-sm) (8.1.7)\n",
            "Requirement already satisfied: MarkupSafe>=2.0 in /usr/local/lib/python3.10/dist-packages (from jinja2->spacy<3.2.0,>=3.1.0->es-core-news-sm) (2.1.5)\n"
          ]
        }
      ]
    },
    {
      "cell_type": "code",
      "source": [
        "# Tokenize using spaCy for Spanish\n",
        "nlp_spanish = spacy.load(\"es_core_news_sm\")\n",
        "spacy_spanish_doc = nlp_spanish(spanish_para)\n",
        "spacy_spanish_tokens = [token.text for token in spacy_spanish_doc]\n",
        "print(\"spaCy Spanish Tokens:\", spacy_spanish_tokens)\n",
        "\n"
      ],
      "metadata": {
        "colab": {
          "base_uri": "https://localhost:8080/"
        },
        "id": "Kvq4Xus0Lfdq",
        "outputId": "eed74a41-86a8-4aa3-98ac-e43b92f0b316"
      },
      "execution_count": 20,
      "outputs": [
        {
          "output_type": "stream",
          "name": "stdout",
          "text": [
            "spaCy Spanish Tokens: ['La', 'Fórmula', 'Uno', ',', 'comúnmente', 'conocida', 'como', 'Fórmula', '1', 'o', 'F1', ',', 'es', 'la', 'clase', 'más', 'alta', 'de', 'carreras', 'internacionales', 'para', 'autos', 'de', 'carreras', 'de', 'fórmula', 'monoplaza', 'de', 'ruedas', 'abiertas', 'sancionada', 'por', 'la', 'Fédération', 'Internationale', 'de', \"l'Automobile\", '(', 'FIA', ')', '.', 'El', 'Campeonato', 'Mundial', 'de', 'Fórmula', 'Uno', 'de', 'la', 'FIA', 'ha', 'sido', 'una', 'de', 'las', 'principales', 'formas', 'de', 'carreras', 'en', 'todo', 'el', 'mundo', 'desde', 'su', 'inauguración', 'en', '1950', '.', 'La', 'palabra', 'fórmula', 'en', 'el', 'nombre', 'se', 'refiere', 'al', 'conjunto', 'de', 'reglas', 'que', 'deben', 'cumplir', 'todos', 'los', 'autos', 'de', 'los', 'participantes', '.', 'Una', 'temporada', 'de', 'Fórmula', 'Uno', 'consta', 'de', 'una', 'serie', 'de', 'carreras', ',', 'conocidas', 'como', 'Grandes', 'Premios', '.', 'Los', 'Grandes', 'Premios', 'se', 'llevan', 'a', 'cabo', 'en', 'varios', 'países', 'y', 'continentes', 'de', 'todo', 'el', 'mundo', ',', 'ya', 'sea', 'en', 'circuitos', 'especialmente', 'diseñados', 'o', 'en', 'vías', 'públicas', 'cerradas', '.']\n"
          ]
        }
      ]
    },
    {
      "cell_type": "code",
      "source": [
        "# Tokenize using gensim\n",
        "gensim_hindi_tokens = simple_preprocess(hindi_para, deacc=True)\n",
        "gensim_spanish_tokens = simple_preprocess(spanish_para, deacc=True)\n",
        "print(\"Gensim Hindi Tokens:\", gensim_hindi_tokens)\n",
        "print(\"Gensim Spanish Tokens:\", gensim_spanish_tokens)"
      ],
      "metadata": {
        "colab": {
          "base_uri": "https://localhost:8080/"
        },
        "id": "UXwiwMmhLfg9",
        "outputId": "b40ee046-96e4-4564-efd4-449cf5bbc608"
      },
      "execution_count": 21,
      "outputs": [
        {
          "output_type": "stream",
          "name": "stdout",
          "text": [
            "Gensim Hindi Tokens: ['रमल', 'वन', 'आमत', 'पर', 'रमल', 'एफ', 'फडरशन', 'इटरनशनल', 'ऑट', 'इल', 'एफआईए', 'दव', 'सव', 'कत', 'ओपन', 'वह', 'गल', 'टर', 'रमल', 'रस', 'अतरर', 'षटर', 'रस', 'उचचतम', 'वरग', 'एफआईए', 'रमल', 'वन', 'वरलड', 'चप', 'यनश', 'अपन', 'उदघ', 'टन', 'दन', 'भर', 'रस', 'परमख', 'रप', 'एक', 'रह', 'रमल', 'शबद', 'यम', 'सट', 'सदरभ', 'करत', 'सक', 'सभ', 'परत', 'लन', 'करन', 'रमल', 'वन', 'जन', 'एक', 'शरखल', 'गर', 'पर', 'गर', 'पर', 'कस', 'दन', 'भर', 'कई', 'दश', 'और', 'मह', 'दव', 'उददशय', 'रम', 'सरक', 'बद', 'रवजन', 'सडक', 'पर']\n",
            "Gensim Spanish Tokens: ['la', 'formula', 'uno', 'comunmente', 'conocida', 'como', 'formula', 'es', 'la', 'clase', 'mas', 'alta', 'de', 'carreras', 'internacionales', 'para', 'autos', 'de', 'carreras', 'de', 'formula', 'monoplaza', 'de', 'ruedas', 'abiertas', 'sancionada', 'por', 'la', 'federation', 'internationale', 'de', 'automobile', 'fia', 'el', 'campeonato', 'mundial', 'de', 'formula', 'uno', 'de', 'la', 'fia', 'ha', 'sido', 'una', 'de', 'las', 'principales', 'formas', 'de', 'carreras', 'en', 'todo', 'el', 'mundo', 'desde', 'su', 'inauguracion', 'en', 'la', 'palabra', 'formula', 'en', 'el', 'nombre', 'se', 'refiere', 'al', 'conjunto', 'de', 'reglas', 'que', 'deben', 'cumplir', 'todos', 'los', 'autos', 'de', 'los', 'participantes', 'una', 'temporada', 'de', 'formula', 'uno', 'consta', 'de', 'una', 'serie', 'de', 'carreras', 'conocidas', 'como', 'grandes', 'premios', 'los', 'grandes', 'premios', 'se', 'llevan', 'cabo', 'en', 'varios', 'paises', 'continentes', 'de', 'todo', 'el', 'mundo', 'ya', 'sea', 'en', 'circuitos', 'especialmente', 'disenados', 'en', 'vias', 'publicas', 'cerradas']\n"
          ]
        }
      ]
    },
    {
      "cell_type": "code",
      "source": [],
      "metadata": {
        "id": "ur5KvHBnMtam"
      },
      "execution_count": 21,
      "outputs": []
    }
  ]
}